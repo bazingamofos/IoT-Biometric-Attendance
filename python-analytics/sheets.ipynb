{
 "cells": [
  {
   "cell_type": "code",
   "execution_count": null,
   "metadata": {
    "colab": {
     "base_uri": "https://localhost:8080/"
    },
    "collapsed": true,
    "id": "Trqp2iRrPEW-",
    "outputId": "bed0d964-f3b4-4866-e2f0-b338295309b4"
   },
   "outputs": [],
   "source": [
    "!pip install gspread google-auth flask"
   ]
  },
  {
   "cell_type": "code",
   "execution_count": null,
   "metadata": {
    "colab": {
     "base_uri": "https://localhost:8080/"
    },
    "collapsed": true,
    "id": "mFCBC0LCQCl9",
    "outputId": "4d3b3a21-ffed-4b1b-f0de-3fbe523beebd"
   },
   "outputs": [],
   "source": [
    "!pip install pyngrok"
   ]
  },
  {
   "cell_type": "code",
   "execution_count": null,
   "metadata": {
    "colab": {
     "base_uri": "https://localhost:8080/"
    },
    "id": "KoIQx6_XPs4d",
    "outputId": "ce6ff88d-994f-480c-9839-39ffe0ffd25e"
   },
   "outputs": [],
   "source": [
    "!ngrok authtoken your-token-here"
   ]
  },
  {
   "cell_type": "code",
   "execution_count": null,
   "metadata": {
    "colab": {
     "base_uri": "https://localhost:8080/"
    },
    "id": "SPBkrg-lRpE5",
    "outputId": "41bb1aed-ac4d-473a-ed85-d6ff63faec8a"
   },
   "outputs": [],
   "source": [
    "from pyngrok import ngrok\n",
    "\n",
    "# Open a tunnel to the Flask app\n",
    "public_url = ngrok.connect(5000)\n",
    "print(\"Public URL:\", public_url)\n"
   ]
  },
  {
   "cell_type": "code",
   "execution_count": null,
   "metadata": {
    "id": "lfcSCQACPKqm"
   },
   "outputs": [],
   "source": [
    "import gspread\n",
    "from google.oauth2.service_account import Credentials\n",
    "from datetime import datetime\n",
    "from flask import Flask, request, jsonify\n",
    "\n",
    "app = Flask(__name__)\n",
    "\n",
    "# Google Sheets authentication\n",
    "scopes = [\"https://www.googleapis.com/auth/spreadsheets\"]\n",
    "creds = Credentials.from_service_account_file(\"credentials.json\", scopes=scopes)\n",
    "client = gspread.authorize(creds)\n",
    "\n",
    "@app.route('/update-attendance', methods=['POST'])\n",
    "def update_attendance():\n",
    "    # Connect to the Google Sheet\n",
    "    data = request.get_json()\n",
    "    sheet_id = data.get('sheet_id')\n",
    "    print(f\"Received Sheet ID: {sheet_id}\")\n",
    "    workbook = client.open_by_key(sheet_id)\n",
    "    sheet = workbook.sheet1  # assuming your data is on the first sheet\n",
    "\n",
    "    # Retrieve sheet data\n",
    "    date_columns = [i for i, col in enumerate(sheet.row_values(1)) if \"/\" in col]\n",
    "    latest_date_col = date_columns[-1] + 1  # latest date column index in 1-based\n",
    "\n",
    "    # Color scheme\n",
    "    color = {\n",
    "        \"P\": {\"backgroundColor\": {\"red\": 0.0, \"green\": 1.0, \"blue\": 0.0, \"alpha\": 0.2}},  # Green for Present\n",
    "        \"A\": {\"backgroundColor\": {\"red\": 1.0, \"green\": 0.0, \"blue\": 0.0, \"alpha\": 0.2}},  # Red for Absent\n",
    "        \"defaulter\": {\"backgroundColor\": {\"red\": 1.0, \"green\": 1.0, \"blue\": 0.0, \"alpha\": 0.2}}  # Yellow for Defaulters\n",
    "    }\n",
    "\n",
    "    # First, mark attendance\n",
    "    for i, row in enumerate(sheet.get_all_records(), start=2):  # start=2 to skip header row\n",
    "        in_time = row['in-time']\n",
    "        out_time = row['out-time']\n",
    "\n",
    "        # Check attendance if out_time is missing\n",
    "        if not out_time:\n",
    "            presence = \"A\"\n",
    "        else:\n",
    "            if in_time and out_time:\n",
    "                time_format = \"%H:%M:%S\"\n",
    "                in_time_obj = datetime.strptime(in_time, time_format)\n",
    "                out_time_obj = datetime.strptime(out_time, time_format)\n",
    "                duration = (out_time_obj - in_time_obj).total_seconds() / 60  # duration in minutes\n",
    "\n",
    "                # Set threshold for present (e.g., 5 minutes)\n",
    "                presence = \"P\" if duration >= 5 else \"A\"\n",
    "\n",
    "        # Update cell for the latest date column with \"P\" or \"A\"\n",
    "        sheet.update_cell(i, latest_date_col, presence)\n",
    "\n",
    "        # Apply color formatting\n",
    "        cell_range = f\"{chr(64 + latest_date_col)}{i}\"\n",
    "        sheet.format(cell_range, color[presence])\n",
    "\n",
    "    # Retrieve updated data\n",
    "    updated_data = sheet.get_all_records()\n",
    "\n",
    "    # Calculate and update attendance percentage\n",
    "    for i, row in enumerate(updated_data, start=2):\n",
    "        total_classes = sum(1 for j in date_columns if row[sheet.row_values(1)[j]] in [\"P\", \"A\"])\n",
    "        attended_classes = sum(1 for j in date_columns if row[sheet.row_values(1)[j]] == \"P\")\n",
    "        attendance_percentage = (attended_classes / total_classes) * 100 if total_classes > 0 else 0\n",
    "        sheet.update_cell(i, sheet.find(\"percentage\").col, f\"{attendance_percentage:.2f}%\")\n",
    "\n",
    "        # Check if attendance percentage is less than 50% and mark as defaulter\n",
    "        if attendance_percentage <= 50:\n",
    "            # Highlight the entire row (up to the percentage column)\n",
    "            row_range = f\"A{i}:{chr(64 + sheet.find('percentage').col)}{i}\"\n",
    "            sheet.format(row_range, color[\"defaulter\"])\n",
    "\n",
    "    return jsonify({\"status\": \"success\"}), 200\n"
   ]
  },
  {
   "cell_type": "code",
   "execution_count": null,
   "metadata": {
    "colab": {
     "background_save": true,
     "base_uri": "https://localhost:8080/"
    },
    "collapsed": true,
    "id": "ZRFBrr1AVrTQ",
    "outputId": "1c1992dd-06a1-40f0-8937-b641619e7a53"
   },
   "outputs": [],
   "source": [
    "if __name__ == \"__main__\":\n",
    "    app.run(debug=True, use_reloader=False)"
   ]
  }
 ],
 "metadata": {
  "colab": {
   "provenance": []
  },
  "kernelspec": {
   "display_name": "Python 3",
   "name": "python3"
  },
  "language_info": {
   "name": "python"
  }
 },
 "nbformat": 4,
 "nbformat_minor": 0
}
