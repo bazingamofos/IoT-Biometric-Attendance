{
 "cells": [
  {
   "cell_type": "code",
   "execution_count": 1,
   "metadata": {
    "colab": {
     "base_uri": "https://localhost:8080/"
    },
    "collapsed": true,
    "id": "Trqp2iRrPEW-",
    "outputId": "15ee5b69-5e6e-42e1-e925-07cae1e1976e"
   },
   "outputs": [
    {
     "name": "stdout",
     "output_type": "stream",
     "text": [
      "Requirement already satisfied: gspread in /usr/local/lib/python3.10/dist-packages (6.0.2)\n",
      "Requirement already satisfied: google-auth in /usr/local/lib/python3.10/dist-packages (2.27.0)\n",
      "Requirement already satisfied: flask in /usr/local/lib/python3.10/dist-packages (3.0.3)\n",
      "Requirement already satisfied: google-auth-oauthlib>=0.4.1 in /usr/local/lib/python3.10/dist-packages (from gspread) (1.2.1)\n",
      "Requirement already satisfied: StrEnum==0.4.15 in /usr/local/lib/python3.10/dist-packages (from gspread) (0.4.15)\n",
      "Requirement already satisfied: cachetools<6.0,>=2.0.0 in /usr/local/lib/python3.10/dist-packages (from google-auth) (5.5.0)\n",
      "Requirement already satisfied: pyasn1-modules>=0.2.1 in /usr/local/lib/python3.10/dist-packages (from google-auth) (0.4.1)\n",
      "Requirement already satisfied: rsa<5,>=3.1.4 in /usr/local/lib/python3.10/dist-packages (from google-auth) (4.9)\n",
      "Requirement already satisfied: Werkzeug>=3.0.0 in /usr/local/lib/python3.10/dist-packages (from flask) (3.1.3)\n",
      "Requirement already satisfied: Jinja2>=3.1.2 in /usr/local/lib/python3.10/dist-packages (from flask) (3.1.4)\n",
      "Requirement already satisfied: itsdangerous>=2.1.2 in /usr/local/lib/python3.10/dist-packages (from flask) (2.2.0)\n",
      "Requirement already satisfied: click>=8.1.3 in /usr/local/lib/python3.10/dist-packages (from flask) (8.1.7)\n",
      "Requirement already satisfied: blinker>=1.6.2 in /usr/local/lib/python3.10/dist-packages (from flask) (1.9.0)\n",
      "Requirement already satisfied: requests-oauthlib>=0.7.0 in /usr/local/lib/python3.10/dist-packages (from google-auth-oauthlib>=0.4.1->gspread) (1.3.1)\n",
      "Requirement already satisfied: MarkupSafe>=2.0 in /usr/local/lib/python3.10/dist-packages (from Jinja2>=3.1.2->flask) (3.0.2)\n",
      "Requirement already satisfied: pyasn1<0.7.0,>=0.4.6 in /usr/local/lib/python3.10/dist-packages (from pyasn1-modules>=0.2.1->google-auth) (0.6.1)\n",
      "Requirement already satisfied: oauthlib>=3.0.0 in /usr/local/lib/python3.10/dist-packages (from requests-oauthlib>=0.7.0->google-auth-oauthlib>=0.4.1->gspread) (3.2.2)\n",
      "Requirement already satisfied: requests>=2.0.0 in /usr/local/lib/python3.10/dist-packages (from requests-oauthlib>=0.7.0->google-auth-oauthlib>=0.4.1->gspread) (2.32.3)\n",
      "Requirement already satisfied: charset-normalizer<4,>=2 in /usr/local/lib/python3.10/dist-packages (from requests>=2.0.0->requests-oauthlib>=0.7.0->google-auth-oauthlib>=0.4.1->gspread) (3.4.0)\n",
      "Requirement already satisfied: idna<4,>=2.5 in /usr/local/lib/python3.10/dist-packages (from requests>=2.0.0->requests-oauthlib>=0.7.0->google-auth-oauthlib>=0.4.1->gspread) (3.10)\n",
      "Requirement already satisfied: urllib3<3,>=1.21.1 in /usr/local/lib/python3.10/dist-packages (from requests>=2.0.0->requests-oauthlib>=0.7.0->google-auth-oauthlib>=0.4.1->gspread) (2.2.3)\n",
      "Requirement already satisfied: certifi>=2017.4.17 in /usr/local/lib/python3.10/dist-packages (from requests>=2.0.0->requests-oauthlib>=0.7.0->google-auth-oauthlib>=0.4.1->gspread) (2024.8.30)\n"
     ]
    }
   ],
   "source": [
    "!pip install gspread google-auth flask"
   ]
  },
  {
   "cell_type": "code",
   "execution_count": 2,
   "metadata": {
    "colab": {
     "base_uri": "https://localhost:8080/"
    },
    "collapsed": true,
    "id": "mFCBC0LCQCl9",
    "outputId": "59ed19c3-a01c-4dae-db92-2cd9c2835dc3"
   },
   "outputs": [
    {
     "name": "stdout",
     "output_type": "stream",
     "text": [
      "Collecting pyngrok\n",
      "  Downloading pyngrok-7.2.1-py3-none-any.whl.metadata (8.3 kB)\n",
      "Requirement already satisfied: PyYAML>=5.1 in /usr/local/lib/python3.10/dist-packages (from pyngrok) (6.0.2)\n",
      "Downloading pyngrok-7.2.1-py3-none-any.whl (22 kB)\n",
      "Installing collected packages: pyngrok\n",
      "Successfully installed pyngrok-7.2.1\n"
     ]
    }
   ],
   "source": [
    "!pip install pyngrok"
   ]
  },
  {
   "cell_type": "code",
   "execution_count": null,
   "metadata": {
    "colab": {
     "base_uri": "https://localhost:8080/"
    },
    "id": "KoIQx6_XPs4d",
    "outputId": "e4c9d287-f75c-4bc2-9d69-1162781530b2"
   },
   "outputs": [
    {
     "name": "stdout",
     "output_type": "stream",
     "text": [
      "Authtoken saved to configuration file: /root/.config/ngrok/ngrok.yml\n"
     ]
    }
   ],
   "source": [
    "!ngrok authtoken your-token-here"
   ]
  },
  {
   "cell_type": "code",
   "execution_count": 31,
   "metadata": {
    "colab": {
     "base_uri": "https://localhost:8080/"
    },
    "id": "SPBkrg-lRpE5",
    "outputId": "3e6ab262-e9d9-4bec-c042-fcedbf6416e6"
   },
   "outputs": [
    {
     "name": "stdout",
     "output_type": "stream",
     "text": [
      "Public URL: NgrokTunnel: \"https://e581-34-106-125-28.ngrok-free.app\" -> \"http://localhost:5000\"\n"
     ]
    }
   ],
   "source": [
    "from pyngrok import ngrok\n",
    "\n",
    "# Open a tunnel to the Flask app\n",
    "public_url = ngrok.connect(5000)\n",
    "print(\"Public URL:\", public_url)\n"
   ]
  },
  {
   "cell_type": "code",
   "execution_count": 32,
   "metadata": {
    "id": "lfcSCQACPKqm"
   },
   "outputs": [],
   "source": [
    "import gspread\n",
    "from google.oauth2.service_account import Credentials\n",
    "from datetime import datetime\n",
    "from flask import Flask, request, jsonify\n",
    "\n",
    "app = Flask(__name__)\n",
    "\n",
    "# Google Sheets authentication\n",
    "scopes = [\"https://www.googleapis.com/auth/spreadsheets\"]\n",
    "creds = Credentials.from_service_account_file(\"credentials.json\", scopes=scopes)\n",
    "client = gspread.authorize(creds)\n",
    "\n",
    "@app.route('/update-attendance', methods=['POST'])\n",
    "def update_attendance():\n",
    "    # Connect to the Google Sheet\n",
    "    data = request.get_json()\n",
    "    sheet_id = data.get('sheet_id')\n",
    "    print(f\"Received Sheet ID: {sheet_id}\")\n",
    "    workbook = client.open_by_key(sheet_id)\n",
    "    sheet = workbook.sheet1  # assuming your data is on the first sheet\n",
    "\n",
    "    # Retrieve header row and data once to minimize read requests\n",
    "    header_row = sheet.row_values(1)\n",
    "    all_rows = sheet.get_all_records()  # Fetches the sheet as a list of dictionaries\n",
    "    date_columns = [i for i, col in enumerate(header_row) if \"/\" in col]\n",
    "    latest_date_col = date_columns[-1] + 1  # Latest date column index (1-based)\n",
    "\n",
    "    # Initialize batch update lists\n",
    "    attendance_updates = []\n",
    "    percentage_updates = []\n",
    "\n",
    "    # Color scheme for formatting\n",
    "    defaulter_color = {\n",
    "        \"backgroundColor\": {\"red\": 1.0, \"green\": 1.0, \"blue\": 0.0, \"alpha\": 0.2}  # Yellow\n",
    "    }\n",
    "    clear_color = {\n",
    "        \"backgroundColor\": None  # Clear formatting\n",
    "    }\n",
    "    p_color = {\n",
    "        \"backgroundColor\": {\"red\": 0.0, \"green\": 1.0, \"blue\": 0.0, \"alpha\": 0.2}  # Green for Present\n",
    "    }\n",
    "    a_color = {\n",
    "        \"backgroundColor\": {\"red\": 1.0, \"green\": 0.0, \"blue\": 0.0, \"alpha\": 0.2}  # Red for Absent\n",
    "    }\n",
    "\n",
    "    # First, mark attendance\n",
    "    for i, row in enumerate(all_rows, start=2):  # start=2 to skip header row\n",
    "        in_time = row.get('in-time', '')\n",
    "        out_time = row.get('out-time', '')\n",
    "\n",
    "        # Check attendance if out_time is missing\n",
    "        if not out_time:\n",
    "            presence = \"A\"\n",
    "        else:\n",
    "            if in_time and out_time:\n",
    "                time_format = \"%H:%M:%S\"\n",
    "                in_time_obj = datetime.strptime(in_time, time_format)\n",
    "                out_time_obj = datetime.strptime(out_time, time_format)\n",
    "                duration = (out_time_obj - in_time_obj).total_seconds() / 60  # duration in minutes\n",
    "\n",
    "                # Set threshold for present (e.g., 5 minutes)\n",
    "                presence = \"P\" if duration >= 5 else \"A\"\n",
    "\n",
    "        # Update cell for the latest date column with \"P\" or \"A\"\n",
    "        attendance_updates.append({\n",
    "            \"range\": f\"{chr(64 + latest_date_col)}{i}\",\n",
    "            \"values\": [[presence]]\n",
    "        })\n",
    "\n",
    "        # Apply color formatting for P and A\n",
    "        cell_range = f\"{chr(64 + latest_date_col)}{i}\"\n",
    "        if presence == \"P\":\n",
    "            sheet.format(cell_range, p_color)\n",
    "        else:\n",
    "            sheet.format(cell_range, a_color)\n",
    "\n",
    "    # Calculate and update attendance percentage\n",
    "    for i, row in enumerate(all_rows, start=2):\n",
    "        total_classes = sum(1 for j in date_columns if row[header_row[j]] in [\"P\", \"A\"])\n",
    "        attended_classes = sum(1 for j in date_columns if row[header_row[j]] == \"P\")\n",
    "        attendance_percentage = (attended_classes / total_classes) * 100 if total_classes > 0 else 0\n",
    "\n",
    "        # Update percentage column\n",
    "        percentage_updates.append({\n",
    "            \"range\": f\"G{i}\",  # Assuming percentage is in column G\n",
    "            \"values\": [[f\"{attendance_percentage:.2f}%\"]]\n",
    "        })\n",
    "\n",
    "        # Apply or clear defaulter formatting\n",
    "        if attendance_percentage <= 50:\n",
    "            # Highlight row if defaulter\n",
    "            sheet.format(f\"A{i}:G{i}\", defaulter_color)\n",
    "        else:\n",
    "            # Clear formatting if no longer a defaulter\n",
    "            sheet.format(f\"A{i}:G{i}\", clear_color)\n",
    "\n",
    "    # Apply batch updates\n",
    "    try:\n",
    "        if attendance_updates:\n",
    "            sheet.batch_update(attendance_updates)\n",
    "        if percentage_updates:\n",
    "            sheet.batch_update(percentage_updates)\n",
    "    except Exception as e:\n",
    "        print(f\"Error during batch update: {e}\")\n",
    "\n",
    "    return jsonify({\"status\": \"success\"}), 200"
   ]
  },
  {
   "cell_type": "code",
   "execution_count": 33,
   "metadata": {
    "colab": {
     "base_uri": "https://localhost:8080/"
    },
    "collapsed": true,
    "id": "ZRFBrr1AVrTQ",
    "outputId": "4f6252d6-9ebe-4aba-97db-0b8d09f5a6a4"
   },
   "outputs": [
    {
     "name": "stdout",
     "output_type": "stream",
     "text": [
      " * Serving Flask app '__main__'\n",
      " * Debug mode: on\n"
     ]
    },
    {
     "name": "stderr",
     "output_type": "stream",
     "text": [
      "INFO:werkzeug:\u001b[31m\u001b[1mWARNING: This is a development server. Do not use it in a production deployment. Use a production WSGI server instead.\u001b[0m\n",
      " * Running on http://127.0.0.1:5000\n",
      "INFO:werkzeug:\u001b[33mPress CTRL+C to quit\u001b[0m\n"
     ]
    },
    {
     "name": "stdout",
     "output_type": "stream",
     "text": [
      "Received Sheet ID: 1ioJr0hBbvyyVmND4WuCwRc7fmJ6e9sCDhcAzIdkT8T4\n"
     ]
    },
    {
     "name": "stderr",
     "output_type": "stream",
     "text": [
      "INFO:werkzeug:127.0.0.1 - - [27/Nov/2024 12:48:31] \"POST /update-attendance HTTP/1.1\" 200 -\n"
     ]
    },
    {
     "name": "stdout",
     "output_type": "stream",
     "text": [
      "Received Sheet ID: 1ioJr0hBbvyyVmND4WuCwRc7fmJ6e9sCDhcAzIdkT8T4\n"
     ]
    },
    {
     "name": "stderr",
     "output_type": "stream",
     "text": [
      "INFO:werkzeug:127.0.0.1 - - [27/Nov/2024 12:48:45] \"POST /update-attendance HTTP/1.1\" 200 -\n"
     ]
    }
   ],
   "source": [
    "if __name__ == \"__main__\":\n",
    "    app.run(debug=True, use_reloader=False, port=5000)"
   ]
  },
  {
   "cell_type": "code",
   "execution_count": null,
   "metadata": {
    "id": "KIhwR9RKkDaN"
   },
   "outputs": [],
   "source": []
  }
 ],
 "metadata": {
  "colab": {
   "provenance": []
  },
  "kernelspec": {
   "display_name": "Python 3",
   "name": "python3"
  },
  "language_info": {
   "name": "python"
  }
 },
 "nbformat": 4,
 "nbformat_minor": 0
}
